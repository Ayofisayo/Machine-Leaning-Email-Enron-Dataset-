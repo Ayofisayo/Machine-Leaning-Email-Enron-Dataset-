{
  "nbformat": 4,
  "nbformat_minor": 0,
  "metadata": {
    "colab": {
      "provenance": [],
      "gpuType": "A100"
    },
    "kernelspec": {
      "name": "python3",
      "display_name": "Python 3"
    },
    "language_info": {
      "name": "python"
    },
    "accelerator": "GPU"
  },
  "cells": [
    {
      "cell_type": "code",
      "source": [
        "!pip install pennylane"
      ],
      "metadata": {
        "colab": {
          "base_uri": "https://localhost:8080/"
        },
        "id": "Sx0Umc_qmrQ9",
        "outputId": "64bae9b1-a38d-4f48-ecf8-b4a36b48f719"
      },
      "execution_count": 4,
      "outputs": [
        {
          "output_type": "stream",
          "name": "stdout",
          "text": [
            "Requirement already satisfied: pennylane in /usr/local/lib/python3.10/dist-packages (0.38.0)\n",
            "Requirement already satisfied: numpy<2.0 in /usr/local/lib/python3.10/dist-packages (from pennylane) (1.26.4)\n",
            "Requirement already satisfied: scipy in /usr/local/lib/python3.10/dist-packages (from pennylane) (1.13.1)\n",
            "Requirement already satisfied: networkx in /usr/local/lib/python3.10/dist-packages (from pennylane) (3.3)\n",
            "Requirement already satisfied: rustworkx>=0.14.0 in /usr/local/lib/python3.10/dist-packages (from pennylane) (0.15.1)\n",
            "Requirement already satisfied: autograd in /usr/local/lib/python3.10/dist-packages (from pennylane) (1.7.0)\n",
            "Requirement already satisfied: toml in /usr/local/lib/python3.10/dist-packages (from pennylane) (0.10.2)\n",
            "Requirement already satisfied: appdirs in /usr/local/lib/python3.10/dist-packages (from pennylane) (1.4.4)\n",
            "Requirement already satisfied: autoray>=0.6.11 in /usr/local/lib/python3.10/dist-packages (from pennylane) (0.6.12)\n",
            "Requirement already satisfied: cachetools in /usr/local/lib/python3.10/dist-packages (from pennylane) (5.5.0)\n",
            "Requirement already satisfied: pennylane-lightning>=0.38 in /usr/local/lib/python3.10/dist-packages (from pennylane) (0.38.0)\n",
            "Requirement already satisfied: requests in /usr/local/lib/python3.10/dist-packages (from pennylane) (2.32.3)\n",
            "Requirement already satisfied: typing-extensions in /usr/local/lib/python3.10/dist-packages (from pennylane) (4.12.2)\n",
            "Requirement already satisfied: packaging in /usr/local/lib/python3.10/dist-packages (from pennylane) (24.1)\n",
            "Requirement already satisfied: charset-normalizer<4,>=2 in /usr/local/lib/python3.10/dist-packages (from requests->pennylane) (3.3.2)\n",
            "Requirement already satisfied: idna<4,>=2.5 in /usr/local/lib/python3.10/dist-packages (from requests->pennylane) (3.10)\n",
            "Requirement already satisfied: urllib3<3,>=1.21.1 in /usr/local/lib/python3.10/dist-packages (from requests->pennylane) (2.2.3)\n",
            "Requirement already satisfied: certifi>=2017.4.17 in /usr/local/lib/python3.10/dist-packages (from requests->pennylane) (2024.8.30)\n"
          ]
        }
      ]
    },
    {
      "cell_type": "code",
      "execution_count": 5,
      "metadata": {
        "id": "6ExXaZF7ml7u"
      },
      "outputs": [],
      "source": [
        "import pennylane as qml\n",
        "from pennylane import numpy as np\n",
        "from pennylane.optimize import AdamOptimizer\n",
        "\n",
        "from sklearn.model_selection import train_test_split\n",
        "from sklearn.feature_extraction.text import TfidfVectorizer\n",
        "import pandas as pd\n",
        "\n",
        "from sklearn.metrics import accuracy_score, f1_score, precision_score, recall_score\n",
        "import math\n",
        "\n"
      ]
    },
    {
      "cell_type": "code",
      "source": [
        "# Define quantum device\n",
        "num_qubits = 4\n",
        "num_layers = 2\n",
        "dev = qml.device(\"default.qubit\", wires=num_qubits)\n",
        "\n"
      ],
      "metadata": {
        "id": "GrSfhTmEnzNy"
      },
      "execution_count": 6,
      "outputs": []
    },
    {
      "cell_type": "code",
      "source": [
        "# Quantum circuit functions\n",
        "def statepreparation(x):\n",
        "    qml.BasisEmbedding(x, wires=range(0, num_qubits))\n",
        "\n",
        "def layer(W):\n",
        "    for i in range(num_qubits):\n",
        "        qml.Rot(W[i, 0], W[i, 1], W[i, 2], wires=i)\n",
        "    for i in range(num_qubits):\n",
        "        qml.CNOT(wires=[i, (i + 1) % num_qubits])\n",
        "\n",
        "@qml.qnode(dev, interface=\"autograd\")\n",
        "def circuit(weights, x):\n",
        "    statepreparation(x)\n",
        "    for W in weights:\n",
        "        layer(W)\n",
        "    return qml.expval(qml.PauliZ(0))\n",
        "\n",
        "def variational_classifier(weights, bias, x):\n",
        "    return circuit(weights, x) + bias\n",
        "\n",
        "def square_loss(labels, predictions):\n",
        "    loss = 0\n",
        "    for l, p in zip(labels, predictions):\n",
        "        loss = loss + (l - p) ** 2\n",
        "    return loss / len(labels)\n",
        "\n",
        "def accuracy(labels, predictions):\n",
        "    return np.mean(np.abs(labels - predictions) < 1e-5)\n",
        "\n",
        "def cost(weights, bias, X, Y):\n",
        "    predictions = [variational_classifier(weights, bias, x) for x in X]\n",
        "    return square_loss(Y, predictions)\n"
      ],
      "metadata": {
        "id": "WXPJXiZSo0mT"
      },
      "execution_count": 7,
      "outputs": []
    },
    {
      "cell_type": "code",
      "source": [
        "# Load the mail dataset\n",
        "df_mail = pd.read_csv('/content/drive/MyDrive/Colab Notebooks/mail_data.csv')\n",
        "\n"
      ],
      "metadata": {
        "id": "3HHIIvkWo0qC"
      },
      "execution_count": 8,
      "outputs": []
    },
    {
      "cell_type": "code",
      "source": [
        "# Preprocessing: map 'Category' to binary (1 for spam, 0 for ham)\n",
        "df_mail['Category'] = df_mail['Category'].map(lambda x: 1 if x == 'spam' else 0)\n",
        "\n"
      ],
      "metadata": {
        "id": "g61yX5lmo0uP"
      },
      "execution_count": 9,
      "outputs": []
    },
    {
      "cell_type": "code",
      "source": [
        "# Use TF-IDF to convert 'Message' column into numerical features\n",
        "tfidf = TfidfVectorizer(max_features=num_qubits)  # Adjust the number of features to match num_qubits\n",
        "X = tfidf.fit_transform(df_mail['Message']).toarray()\n",
        "\n"
      ],
      "metadata": {
        "id": "rfCml5QfAk16"
      },
      "execution_count": 10,
      "outputs": []
    },
    {
      "cell_type": "code",
      "source": [
        "# Binarize the TF-IDF values (set threshold at 0.5)\n",
        "X = np.where(X > 0.5, 1, 0)\n",
        "\n"
      ],
      "metadata": {
        "id": "Sf7YQgavAk5s"
      },
      "execution_count": 11,
      "outputs": []
    },
    {
      "cell_type": "code",
      "source": [
        "# Labels (target)\n",
        "y = df_mail['Category']\n",
        "\n"
      ],
      "metadata": {
        "id": "P1l4H_dDAk9a"
      },
      "execution_count": 12,
      "outputs": []
    },
    {
      "cell_type": "code",
      "source": [
        "# Split the data into training and testing sets\n",
        "X_train, X_test, y_train, y_test = train_test_split(X, y, test_size=0.10, random_state=42, stratify=y)\n",
        "\n"
      ],
      "metadata": {
        "id": "5Rdeub7MAlZg"
      },
      "execution_count": 13,
      "outputs": []
    },
    {
      "cell_type": "code",
      "source": [
        "# Convert to the required format for PennyLane\n",
        "X_train = np.array(X_train, requires_grad=False)\n",
        "Y_train = np.array(y_train * 2 - np.ones(len(y_train)), requires_grad=False)\n",
        "\n"
      ],
      "metadata": {
        "id": "o89KS0hPAldK"
      },
      "execution_count": 14,
      "outputs": []
    },
    {
      "cell_type": "code",
      "source": [
        "# Set initial parameters\n",
        "np.random.seed(0)\n",
        "weights_init = 0.01 * np.random.randn(num_layers, num_qubits, 3, requires_grad=True)\n",
        "bias_init = np.array(0.0, requires_grad=True)\n",
        "\n",
        "opt = AdamOptimizer(0.125)\n",
        "num_it = 70\n",
        "batch_size = math.floor(len(X_train) / num_it)\n",
        "\n",
        "weights = weights_init\n",
        "bias = bias_init\n",
        "\n"
      ],
      "metadata": {
        "id": "fwuY-7fkAlgl"
      },
      "execution_count": 15,
      "outputs": []
    },
    {
      "cell_type": "code",
      "source": [
        "# Training loop\n",
        "for it in range(num_it):\n",
        "    batch_index = np.random.randint(0, len(X_train), (batch_size,))\n",
        "    X_batch = X_train[batch_index]\n",
        "    Y_batch = Y_train[batch_index]\n",
        "    weights, bias, _, _ = opt.step(cost, weights, bias, X_batch, Y_batch)\n",
        "\n",
        "    # Compute accuracy\n",
        "    predictions = [np.sign(variational_classifier(weights, bias, x)) for x in X_train]\n",
        "    acc = accuracy(Y_train, predictions)\n",
        "\n",
        "    print(\"Iter: {:5d} | Cost: {:0.7f} | Accuracy: {:0.7f}\".format(it + 1, cost(weights, bias, X_train, Y_train), acc))\n",
        "\n"
      ],
      "metadata": {
        "colab": {
          "base_uri": "https://localhost:8080/"
        },
        "id": "NNqYtrcKA3N2",
        "outputId": "b05d7a47-7344-4d91-d479-ef15d5904dd1"
      },
      "execution_count": 19,
      "outputs": [
        {
          "output_type": "stream",
          "name": "stdout",
          "text": [
            "Iter:     1 | Cost: 0.8668948 | Accuracy: 0.7794176\n",
            "Iter:     2 | Cost: 0.6150966 | Accuracy: 0.8659753\n",
            "Iter:     3 | Cost: 0.4965560 | Accuracy: 0.8659753\n",
            "Iter:     4 | Cost: 0.4676006 | Accuracy: 0.8659753\n",
            "Iter:     5 | Cost: 0.4794898 | Accuracy: 0.8659753\n",
            "Iter:     6 | Cost: 0.5004271 | Accuracy: 0.8659753\n",
            "Iter:     7 | Cost: 0.5145595 | Accuracy: 0.8659753\n",
            "Iter:     8 | Cost: 0.5160413 | Accuracy: 0.8659753\n",
            "Iter:     9 | Cost: 0.5146579 | Accuracy: 0.8659753\n",
            "Iter:    10 | Cost: 0.5137264 | Accuracy: 0.8659753\n",
            "Iter:    11 | Cost: 0.5306809 | Accuracy: 0.8659753\n",
            "Iter:    12 | Cost: 0.5583380 | Accuracy: 0.8659753\n",
            "Iter:    13 | Cost: 0.5544747 | Accuracy: 0.8659753\n",
            "Iter:    14 | Cost: 0.5472171 | Accuracy: 0.8659753\n",
            "Iter:    15 | Cost: 0.5439767 | Accuracy: 0.8659753\n",
            "Iter:    16 | Cost: 0.5310507 | Accuracy: 0.8659753\n",
            "Iter:    17 | Cost: 0.5178103 | Accuracy: 0.8659753\n",
            "Iter:    18 | Cost: 0.5059718 | Accuracy: 0.8659753\n",
            "Iter:    19 | Cost: 0.4966599 | Accuracy: 0.8659753\n",
            "Iter:    20 | Cost: 0.4887285 | Accuracy: 0.8659753\n",
            "Iter:    21 | Cost: 0.4784584 | Accuracy: 0.8659753\n",
            "Iter:    22 | Cost: 0.4691789 | Accuracy: 0.8659753\n",
            "Iter:    23 | Cost: 0.4598747 | Accuracy: 0.8659753\n",
            "Iter:    24 | Cost: 0.4518281 | Accuracy: 0.8659753\n",
            "Iter:    25 | Cost: 0.4465261 | Accuracy: 0.8659753\n",
            "Iter:    26 | Cost: 0.4446713 | Accuracy: 0.8659753\n",
            "Iter:    27 | Cost: 0.4428149 | Accuracy: 0.8659753\n",
            "Iter:    28 | Cost: 0.4429467 | Accuracy: 0.8659753\n",
            "Iter:    29 | Cost: 0.4458700 | Accuracy: 0.8659753\n",
            "Iter:    30 | Cost: 0.4505630 | Accuracy: 0.8659753\n",
            "Iter:    31 | Cost: 0.4587324 | Accuracy: 0.8659753\n",
            "Iter:    32 | Cost: 0.4610559 | Accuracy: 0.8659753\n",
            "Iter:    33 | Cost: 0.4593802 | Accuracy: 0.8659753\n",
            "Iter:    34 | Cost: 0.4552563 | Accuracy: 0.8659753\n",
            "Iter:    35 | Cost: 0.4458584 | Accuracy: 0.8659753\n",
            "Iter:    36 | Cost: 0.4395670 | Accuracy: 0.8659753\n",
            "Iter:    37 | Cost: 0.4363627 | Accuracy: 0.8659753\n",
            "Iter:    38 | Cost: 0.4358541 | Accuracy: 0.8659753\n",
            "Iter:    40 | Cost: 0.4394153 | Accuracy: 0.8659753\n",
            "Iter:    41 | Cost: 0.4420499 | Accuracy: 0.8659753\n",
            "Iter:    42 | Cost: 0.4449934 | Accuracy: 0.8659753\n",
            "Iter:    43 | Cost: 0.4472816 | Accuracy: 0.8659753\n",
            "Iter:    44 | Cost: 0.4488709 | Accuracy: 0.8659753\n",
            "Iter:    45 | Cost: 0.4509676 | Accuracy: 0.8659753\n",
            "Iter:    46 | Cost: 0.4530262 | Accuracy: 0.8659753\n",
            "Iter:    47 | Cost: 0.4552006 | Accuracy: 0.8659753\n",
            "Iter:    48 | Cost: 0.4566007 | Accuracy: 0.8659753\n",
            "Iter:    49 | Cost: 0.4557143 | Accuracy: 0.8659753\n",
            "Iter:    50 | Cost: 0.4521158 | Accuracy: 0.8659753\n",
            "Iter:    51 | Cost: 0.4489817 | Accuracy: 0.8659753\n",
            "Iter:    52 | Cost: 0.4460780 | Accuracy: 0.8659753\n",
            "Iter:    53 | Cost: 0.4434855 | Accuracy: 0.8659753\n",
            "Iter:    54 | Cost: 0.4413156 | Accuracy: 0.8659753\n",
            "Iter:    55 | Cost: 0.4402470 | Accuracy: 0.8659753\n",
            "Iter:    56 | Cost: 0.4405080 | Accuracy: 0.8659753\n",
            "Iter:    57 | Cost: 0.4423082 | Accuracy: 0.8659753\n",
            "Iter:    58 | Cost: 0.4442342 | Accuracy: 0.8659753\n",
            "Iter:    59 | Cost: 0.4438765 | Accuracy: 0.8659753\n",
            "Iter:    60 | Cost: 0.4442539 | Accuracy: 0.8659753\n",
            "Iter:    61 | Cost: 0.4444754 | Accuracy: 0.8659753\n",
            "Iter:    62 | Cost: 0.4437555 | Accuracy: 0.8659753\n",
            "Iter:    63 | Cost: 0.4419782 | Accuracy: 0.8659753\n",
            "Iter:    64 | Cost: 0.4405375 | Accuracy: 0.8659753\n",
            "Iter:    65 | Cost: 0.4408698 | Accuracy: 0.8659753\n",
            "Iter:    66 | Cost: 0.4444078 | Accuracy: 0.8659753\n",
            "Iter:    67 | Cost: 0.4453114 | Accuracy: 0.8659753\n",
            "Iter:    68 | Cost: 0.4411401 | Accuracy: 0.8659753\n",
            "Iter:    69 | Cost: 0.4387943 | Accuracy: 0.8659753\n",
            "Iter:    70 | Cost: 0.4388259 | Accuracy: 0.8659753\n"
          ]
        }
      ]
    },
    {
      "cell_type": "code",
      "source": [
        "# Testing phase\n",
        "X_test = np.array(X_test, requires_grad=False)\n",
        "Y_test = np.array(y_test * 2 - np.ones(len(y_test)), requires_grad=False)\n",
        "\n",
        "predictions = [np.sign(variational_classifier(weights, bias, x)) for x in X_test]\n",
        "\n",
        "print(\"Test Accuracy:\", accuracy_score(Y_test, predictions))\n",
        "print(\"Precision:\", precision_score(Y_test, predictions))\n",
        "print(\"Recall:\", recall_score(Y_test, predictions))\n",
        "print(\"F1 Score:\", f1_score(Y_test, predictions, average='macro'))"
      ],
      "metadata": {
        "colab": {
          "base_uri": "https://localhost:8080/"
        },
        "id": "96xZhs3bA3Ro",
        "outputId": "f84c0938-f96a-490e-f68b-568bf34ebbd4"
      },
      "execution_count": 21,
      "outputs": [
        {
          "output_type": "stream",
          "name": "stdout",
          "text": [
            "Test Accuracy: 0.8655913978494624\n",
            "Precision: 0.0\n",
            "Recall: 0.0\n",
            "F1 Score: 0.46397694524495675\n"
          ]
        },
        {
          "output_type": "stream",
          "name": "stderr",
          "text": [
            "/usr/local/lib/python3.10/dist-packages/sklearn/metrics/_classification.py:1531: UndefinedMetricWarning: Precision is ill-defined and being set to 0.0 due to no predicted samples. Use `zero_division` parameter to control this behavior.\n",
            "  _warn_prf(average, modifier, f\"{metric.capitalize()} is\", len(result))\n"
          ]
        }
      ]
    },
    {
      "cell_type": "code",
      "source": [],
      "metadata": {
        "id": "5UXlQmhdA3Vn"
      },
      "execution_count": null,
      "outputs": []
    },
    {
      "cell_type": "code",
      "source": [],
      "metadata": {
        "id": "gB2ZPISBA3Y7"
      },
      "execution_count": null,
      "outputs": []
    },
    {
      "cell_type": "code",
      "source": [],
      "metadata": {
        "id": "xe73ik8iA3dl"
      },
      "execution_count": null,
      "outputs": []
    },
    {
      "cell_type": "code",
      "source": [],
      "metadata": {
        "id": "kbR9iFQmA3gE"
      },
      "execution_count": null,
      "outputs": []
    },
    {
      "cell_type": "code",
      "source": [],
      "metadata": {
        "id": "FQEQ7REpA3j2"
      },
      "execution_count": null,
      "outputs": []
    },
    {
      "cell_type": "code",
      "source": [],
      "metadata": {
        "id": "bXTf6LtxA3nu"
      },
      "execution_count": null,
      "outputs": []
    }
  ]
}